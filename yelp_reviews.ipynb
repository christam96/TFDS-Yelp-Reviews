{
 "cells": [
  {
   "cell_type": "markdown",
   "metadata": {},
   "source": [
    "# Text Classification: Yelp Reviews"
   ]
  },
  {
   "cell_type": "code",
   "execution_count": 1,
   "metadata": {},
   "outputs": [
    {
     "name": "stdout",
     "output_type": "stream",
     "text": [
      "Version:  2.2.0\n"
     ]
    }
   ],
   "source": [
    "# Imports\n",
    "import numpy as np\n",
    "import tensorflow as tf\n",
    "import tensorflow_hub as hub\n",
    "import tensorflow_datasets as tfds\n",
    "import matplotlib.pyplot as plt\n",
    "\n",
    "print(\"Version: \", tf.__version__)"
   ]
  },
  {
   "cell_type": "code",
   "execution_count": 2,
   "metadata": {},
   "outputs": [
    {
     "data": {
      "text/plain": [
       "'\\nFind all available TFDS datasets\\n'"
      ]
     },
     "execution_count": 2,
     "metadata": {},
     "output_type": "execute_result"
    }
   ],
   "source": [
    "'''\n",
    "Find all available TFDS datasets\n",
    "'''\n",
    "# tfds.list_builders()"
   ]
  },
  {
   "cell_type": "code",
   "execution_count": 3,
   "metadata": {},
   "outputs": [],
   "source": [
    "# Download the Yelp review dataset\n",
    "# Split the dataset into a train and test set\n",
    "train_data, validation_data, test_data = tfds.load(\n",
    "    name=\"yelp_polarity_reviews\",\n",
    "    split=('train[:60%]', 'train[:60%]', 'test'),\n",
    "    as_supervised=True)"
   ]
  },
  {
   "cell_type": "code",
   "execution_count": 4,
   "metadata": {},
   "outputs": [
    {
     "data": {
      "text/plain": [
       "<tf.Tensor: shape=(5,), dtype=string, numpy=\n",
       "array([b\"The Groovy P. and I ventured to his old stomping grounds for lunch today.  The '5 and Diner' on 16th St and Colter left me with little to ask for.  Before coming here I had a preconceived notion that 5 & Diners were dirty and nasty. Not the case at all.\\\\n\\\\nWe walk in and let the waitress know we want to sit outside (since it's so nice and they had misters).  We get two different servers bringing us stuff (talk about service) and I ask the one waitress for recommendations.  I didn't listen to her, of course, and ordered the Southwestern Burger w/ coleslaw and started with a nice stack of rings.\\\\n\\\\nThe Onion Rings were perfectly cooked.  They looked like they were prepackaged, but they were very crispy and I could actually bite through the onion without pulling the entire thing out (don't you hate that?!!!)\\\\n\\\\nThe Southwestern Burger was order Medium Rare and was cooked accordingly.  Soft, juicy, and pink with a nice crispy browned outer layer that can only be achieved on a well used grill.  The creaminess of the chipotle mayo paired beautifully with the green chiles.  Unfortunately, because I ate too many onion rings, I couldn't finish my burger.  What a shame!\\\\n\\\\nThe Coleslaw was just how I like it.  It's hard to find a really good coleslaw.  I prefer mine to be slightly sweet, not sour.  Too much vinegar in slaw ruins it in my opinion.  This slaw had the perfect marriage of mayo, vinegar, and sugar. Not to mention carrots...\\\\n\\\\nMy experience here was great!  The servers were top notch and kept my water full the entire time and actually chatted with us for a few minutes.\\\\n\\\\nThere is an artist guy named Ross who has been there every day for 5393 days straight. No, not an employee.  He goes there and does his art! He hasn't missed a SINGLE day!!! That's like... 15 years! So if you wanna seem to be 'in the know' ask where Ross is... They'll be able to tell you.\\\\n\\\\nTime for a nap!\",\n",
       "       b\"Mediocre burgers - if you are in the area and want a fast food burger, Fatburger is  a better bet than Wendy's. But it is nothing to go out of your way for.\",\n",
       "       b'Not at all impressed...our server was not very happy to be there...food was very sub-par and it was way to crowded. Not the good kind I crowded where you feel like \\\\\"\"wow this is great it must be busy because the food is so great..\\\\\"\" But the type of crowded where you feel a fight may break out. Also, if the chocolate fountain is their golden gem...why is it ok for people to dip the strawberry,lick off the chocolate and re dip it right then and there...absolutely disgusting! I Waited almost 10 minutes to dip...saw that and was immediately turned away...just saying...Never again!',\n",
       "       b\"I wish I would have read Megan P's review before I decided to cancel my dinner reservations because I was offered a COMP dinner at Beso.  \\\\n\\\\nTwo of my girlfriends and I were walking around Fashion Show Mall as a promoter approaches us to ask if we'd like to go to Eve Nightclub that night.  We wanted to go to Haze and XS so we declined.  The promoter (by the way - his name is ANDRE) offers us a comp dinner at Beso Eva Longoria's restaurant at Crystals Mall.  I guess what's the catch right?  Is there a comp limit and we have to pay after we hit the limit?  No, it's a set dinner.  He sets everything up and promises he'll even walk us into Haze and XS afterwards (which I actually believed).  \\\\n\\\\nHere's a review for ANDRE:\\\\nHe tells you to call him when you're at the restaurant to get you seated.  Well - he doesn't even pick up or return text messages.  Basically, I never even see him again since he approached us at Fashion Show Mall.  He never came to give us our bottle of campagne that he promised either.  AND he never shows up to walk us into Haze or set us up for XS.  On top of that, he gave my number to other promoters (for LAVO) without letting me know.  I guess these promoters get paid by the number of girls they can pull but I've definitely dealt with more reliable promoters that actually keep their word.  \\\\n\\\\nHere's a review for the MEAL:  \\\\nWe had a party of 9 girls.  We ordered cocktails ($15) and $4 (soda/iced tea/etc).  I ordered the Ginger Cosmo and I'd say I'd definitely not order that off the menu again.  (It was highly recommended by our waitress by the way!)  I didn't think any of the drinks were that great as I sipped my friend's drinks.  \\\\n\\\\nThe meal included the following:  (Keep in mind 9 GIRLS!!!)\\\\n1.  3 TINY portions of guac and chips.  Guac was OK but I've had better and I felt like the chips were a little stale.  \\\\n2.  2 plates of caesar salad.  I mean you can't really go wrong with caesar salad but I don't think the lettuce was very fresh. \\\\n3.  2 plates of steak and potatoes.  The portion on each plate was enough to probably feed 1 person so imagine 4 to 5 girls sharing the portion for 1 person.  I mean yes it's Vegas and we want to look good in our dresses but we also want to eat so we don't get wasted.  Yes, the steak was good - the whole 4 bites that I ate!  It's literally 1 slice per person as it's 5 pieces pre-cut.\\\\n\\\\nI'm sure this meal would have been better if we actually paid to dine at Beso but to be honest promoters should just tell people that it's a comp taste sampling and to come eaten!  I was on my phone yelping the nearest fast food restaurant for us to eat more but this comp meal only takes reservations 9/9:30/10 (they just want you to go to Eve Club even if you don't want to) so it doesn't really allow time to eat meal #2 before trying to get into a club the promoter promised to walk you right in but goes MIA.  I definitely would have rather paid to eat elsewhere and I will probably never step foot into Beso again.  \\\\n\\\\nYou win this time but I hope I win in the long run with this yelp review.\",\n",
       "       b'A large selection of food from all over the world. Great atmosphere and ambiance.  Quality of food is on par with a 5 star hotel. But did not have lobster and king crab that I was expecting for this kind of price.'],\n",
       "      dtype=object)>"
      ]
     },
     "execution_count": 4,
     "metadata": {},
     "output_type": "execute_result"
    }
   ],
   "source": [
    "# Print the first 5 examples and labels\n",
    "train_examples_batch, train_labels_batch = next(iter(train_data.batch(5)))\n",
    "# print('Reviews: \\n{}\\n'.format(train_examples_batch))\n",
    "# print('Labels: {}'.format(train_labels_batch))\n",
    "train_examples_batch\n",
    "# train_labels_batch"
   ]
  },
  {
   "cell_type": "code",
   "execution_count": 5,
   "metadata": {},
   "outputs": [],
   "source": [
    "# Use a pre-trained text embedding model to convert sentences into embeddings vectors\n",
    "# I will use the google/tf2-preview/nnlm-en-dim50/1 model found here:\n",
    "# https://tfhub.dev/google/tf2-preview/nnlm-en-dim50/1\n",
    "embed_model = \"https://tfhub.dev/google/tf2-preview/gnews-swivel-20dim/1\""
   ]
  },
  {
   "cell_type": "code",
   "execution_count": 6,
   "metadata": {},
   "outputs": [],
   "source": [
    "# Now create a Keras layer that uses the pre-trained text embedding model to convert sentences into embeddings vectors\n",
    "embed_layer=hub.KerasLayer(embed_model,\n",
    "                           input_shape=[],\n",
    "                           dtype=tf.string,\n",
    "                           trainable=True)"
   ]
  },
  {
   "cell_type": "code",
   "execution_count": 7,
   "metadata": {},
   "outputs": [
    {
     "name": "stdout",
     "output_type": "stream",
     "text": [
      "Model: \"sequential\"\n",
      "_________________________________________________________________\n",
      "Layer (type)                 Output Shape              Param #   \n",
      "=================================================================\n",
      "keras_layer (KerasLayer)     (None, 20)                400020    \n",
      "_________________________________________________________________\n",
      "dense (Dense)                (None, 16)                336       \n",
      "_________________________________________________________________\n",
      "dense_1 (Dense)              (None, 1)                 17        \n",
      "=================================================================\n",
      "Total params: 400,373\n",
      "Trainable params: 400,373\n",
      "Non-trainable params: 0\n",
      "_________________________________________________________________\n"
     ]
    }
   ],
   "source": [
    "# Build full model\n",
    "yelp_model=tf.keras.Sequential()\n",
    "yelp_model.add(embed_layer) # First layer is going to be the text embedding model\n",
    "yelp_model.add(tf.keras.layers.Dense(16, activation='relu'))\n",
    "yelp_model.add(tf.keras.layers.Dense(1))\n",
    "\n",
    "yelp_model.summary()"
   ]
  },
  {
   "cell_type": "code",
   "execution_count": 8,
   "metadata": {},
   "outputs": [],
   "source": [
    "# Define loss function and optimizer\n",
    "yelp_model.compile(optimizer='adam', \n",
    "                   loss=tf.keras.losses.BinaryCrossentropy(from_logits=True),\n",
    "                   metrics=['accuracy'])"
   ]
  },
  {
   "cell_type": "code",
   "execution_count": 9,
   "metadata": {},
   "outputs": [
    {
     "name": "stdout",
     "output_type": "stream",
     "text": [
      "Epoch 1/5\n",
      "1303/1303 [==============================] - 46s 35ms/step - loss: 0.3012 - accuracy: 0.8574 - val_loss: 0.1947 - val_accuracy: 0.9157\n",
      "Epoch 2/5\n",
      "1303/1303 [==============================] - 49s 37ms/step - loss: 0.1908 - accuracy: 0.9201 - val_loss: 0.1784 - val_accuracy: 0.9230\n",
      "Epoch 3/5\n",
      "1303/1303 [==============================] - 46s 35ms/step - loss: 0.1809 - accuracy: 0.9247 - val_loss: 0.1739 - val_accuracy: 0.9237\n",
      "Epoch 4/5\n",
      "1303/1303 [==============================] - 49s 38ms/step - loss: 0.1759 - accuracy: 0.9269 - val_loss: 0.1702 - val_accuracy: 0.9251\n",
      "Epoch 5/5\n",
      "1303/1303 [==============================] - 47s 36ms/step - loss: 0.1727 - accuracy: 0.9280 - val_loss: 0.1650 - val_accuracy: 0.9290\n"
     ]
    }
   ],
   "source": [
    "# Train the model\n",
    "yelp_model_train=yelp_model.fit(train_data.shuffle(1000).batch(258),\n",
    "                               epochs=5,\n",
    "                               validation_data=validation_data.batch(258),\n",
    "                               verbose=1)\n"
   ]
  },
  {
   "cell_type": "code",
   "execution_count": 10,
   "metadata": {},
   "outputs": [
    {
     "name": "stdout",
     "output_type": "stream",
     "text": [
      "75/75 - 2s - loss: 0.1888 - accuracy: 0.9204\n",
      "loss: 0.189\n",
      "accuracy: 0.920\n"
     ]
    }
   ],
   "source": [
    "# Evaluate the model\n",
    "results=yelp_model.evaluate(test_data.batch(512), verbose=2)\n",
    "\n",
    "for name, value in zip(yelp_model.metrics_names, results):\n",
    "  print(\"%s: %.3f\" % (name, value))"
   ]
  },
  {
   "cell_type": "code",
   "execution_count": 11,
   "metadata": {},
   "outputs": [
    {
     "data": {
      "image/png": "[encoded data removed]",
      "text/plain": [
       "<Figure size 432x288 with 1 Axes>"
      ]
     },
     "metadata": {
      "needs_background": "light"
     },
     "output_type": "display_data"
    },
    {
     "data": {
      "image/png": "[encoded data removed]",
      "text/plain": [
       "<Figure size 432x288 with 1 Axes>"
      ]
     },
     "metadata": {
      "needs_background": "light"
     },
     "output_type": "display_data"
    }
   ],
   "source": [
    "# Summarize history for accuracy\n",
    "plt.plot(yelp_model_train.history['accuracy'])\n",
    "plt.plot(yelp_model_train.history['val_accuracy'])\n",
    "plt.title('Model Accuracy')\n",
    "plt.ylabel('Accuracy')\n",
    "plt.xlabel('Epoch')\n",
    "plt.legend(['train', 'test'], loc='upper left')\n",
    "plt.show()\n",
    "# Summarize history for loss\n",
    "plt.plot(yelp_model_train.history['loss'])\n",
    "plt.plot(yelp_model_train.history['val_loss'])\n",
    "plt.title('Model Loss')\n",
    "plt.ylabel('Loss')\n",
    "plt.xlabel('epoch')\n",
    "plt.legend(['train', 'test'], loc='upper left')\n",
    "plt.show()"
   ]
  },
  {
   "cell_type": "code",
   "execution_count": null,
   "metadata": {},
   "outputs": [],
   "source": []
  }
 ],
 "metadata": {
  "kernelspec": {
   "display_name": "Python 3",
   "language": "python",
   "name": "python3"
  },
  "language_info": {
   "codemirror_mode": {
    "name": "ipython",
    "version": 3
   },
   "file_extension": ".py",
   "mimetype": "text/x-python",
   "name": "python",
   "nbconvert_exporter": "python",
   "pygments_lexer": "ipython3",
   "version": "3.8.2"
  }
 },
 "nbformat": 4,
 "nbformat_minor": 4
}
